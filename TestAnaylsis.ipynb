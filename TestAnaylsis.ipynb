{
 "cells": [
  {
   "cell_type": "code",
   "execution_count": 1,
   "id": "d1c5ac63",
   "metadata": {},
   "outputs": [],
   "source": [
    "import pandas as pd\n",
    "from os import listdir\n",
    "from os.path import isfile, join"
   ]
  },
  {
   "cell_type": "code",
   "execution_count": 2,
   "id": "56aad3d8",
   "metadata": {},
   "outputs": [],
   "source": [
    "import matplotlib.pyplot as plt"
   ]
  },
  {
   "cell_type": "code",
   "execution_count": 3,
   "id": "4c239350",
   "metadata": {},
   "outputs": [],
   "source": [
    "from itertools import combinations\n",
    "from collections import Counter"
   ]
  },
  {
   "cell_type": "code",
   "execution_count": 4,
   "id": "4cb71dc0",
   "metadata": {},
   "outputs": [],
   "source": [
    "### merging 12 months of sales data into a single csv file"
   ]
  },
  {
   "cell_type": "code",
   "execution_count": 5,
   "id": "8bd59de6",
   "metadata": {},
   "outputs": [],
   "source": [
    "onlyfiles = [f for f in listdir('./Sales_Data/')]\n",
    "\n",
    "all_data = pd.DataFrame()\n",
    "\n",
    "for file in onlyfiles:\n",
    "    df = pd.read_csv('./Sales_data/'+file)\n",
    "    all_data = pd.concat([all_data, df])\n",
    "all_data.to_csv('./AllMonthsData.csv', index=False)"
   ]
  },
  {
   "cell_type": "code",
   "execution_count": 6,
   "id": "1db4fad1",
   "metadata": {},
   "outputs": [],
   "source": [
    "### Read in updated data"
   ]
  },
  {
   "cell_type": "code",
   "execution_count": 7,
   "id": "898ae59e",
   "metadata": {},
   "outputs": [],
   "source": [
    "allData = pd.read_csv('./AllMonthsData.csv')"
   ]
  },
  {
   "cell_type": "code",
   "execution_count": 8,
   "id": "f91deed1",
   "metadata": {},
   "outputs": [],
   "source": [
    "### Cleanup the data\n",
    "### rows with NaN values and Empty Data"
   ]
  },
  {
   "cell_type": "code",
   "execution_count": 9,
   "id": "554f9abf",
   "metadata": {},
   "outputs": [],
   "source": [
    "allData = allData.dropna(axis=0, how='all')"
   ]
  },
  {
   "cell_type": "code",
   "execution_count": 10,
   "id": "17f14a05",
   "metadata": {
    "scrolled": true
   },
   "outputs": [],
   "source": [
    "allData = allData[allData['Order Date'].str[0:2] != 'Or']"
   ]
  },
  {
   "cell_type": "code",
   "execution_count": 11,
   "id": "74fe94c9",
   "metadata": {},
   "outputs": [],
   "source": [
    "### Convert columns to correct data type Qty, Price, OrderDate"
   ]
  },
  {
   "cell_type": "code",
   "execution_count": 12,
   "id": "7311ad07",
   "metadata": {},
   "outputs": [],
   "source": [
    "allData['Quantity Ordered'] = pd.to_numeric(allData['Quantity Ordered'])\n",
    "allData['Price Each'] = pd.to_numeric(allData['Price Each'])\n",
    "allData['Order Date'] = pd.to_datetime(allData['Order Date'])\n"
   ]
  },
  {
   "cell_type": "code",
   "execution_count": 13,
   "id": "dc3bdda7",
   "metadata": {},
   "outputs": [],
   "source": [
    "### Augment data with some additional columns\n",
    "## Add Month column"
   ]
  },
  {
   "cell_type": "code",
   "execution_count": 14,
   "id": "117c1a9a",
   "metadata": {},
   "outputs": [
    {
     "data": {
      "text/html": [
       "<div>\n",
       "<style scoped>\n",
       "    .dataframe tbody tr th:only-of-type {\n",
       "        vertical-align: middle;\n",
       "    }\n",
       "\n",
       "    .dataframe tbody tr th {\n",
       "        vertical-align: top;\n",
       "    }\n",
       "\n",
       "    .dataframe thead th {\n",
       "        text-align: right;\n",
       "    }\n",
       "</style>\n",
       "<table border=\"1\" class=\"dataframe\">\n",
       "  <thead>\n",
       "    <tr style=\"text-align: right;\">\n",
       "      <th></th>\n",
       "      <th>Order ID</th>\n",
       "      <th>Product</th>\n",
       "      <th>Quantity Ordered</th>\n",
       "      <th>Price Each</th>\n",
       "      <th>Order Date</th>\n",
       "      <th>Purchase Address</th>\n",
       "      <th>Month</th>\n",
       "      <th>Hour</th>\n",
       "      <th>Minute</th>\n",
       "      <th>Count</th>\n",
       "    </tr>\n",
       "  </thead>\n",
       "  <tbody>\n",
       "    <tr>\n",
       "      <th>0</th>\n",
       "      <td>295665</td>\n",
       "      <td>Macbook Pro Laptop</td>\n",
       "      <td>1</td>\n",
       "      <td>1700.00</td>\n",
       "      <td>2019-12-30 00:01:00</td>\n",
       "      <td>136 Church St, New York City, NY 10001</td>\n",
       "      <td>12</td>\n",
       "      <td>0</td>\n",
       "      <td>1</td>\n",
       "      <td>1</td>\n",
       "    </tr>\n",
       "    <tr>\n",
       "      <th>1</th>\n",
       "      <td>295666</td>\n",
       "      <td>LG Washing Machine</td>\n",
       "      <td>1</td>\n",
       "      <td>600.00</td>\n",
       "      <td>2019-12-29 07:03:00</td>\n",
       "      <td>562 2nd St, New York City, NY 10001</td>\n",
       "      <td>12</td>\n",
       "      <td>7</td>\n",
       "      <td>3</td>\n",
       "      <td>1</td>\n",
       "    </tr>\n",
       "    <tr>\n",
       "      <th>2</th>\n",
       "      <td>295667</td>\n",
       "      <td>USB-C Charging Cable</td>\n",
       "      <td>1</td>\n",
       "      <td>11.95</td>\n",
       "      <td>2019-12-12 18:21:00</td>\n",
       "      <td>277 Main St, New York City, NY 10001</td>\n",
       "      <td>12</td>\n",
       "      <td>18</td>\n",
       "      <td>21</td>\n",
       "      <td>1</td>\n",
       "    </tr>\n",
       "    <tr>\n",
       "      <th>3</th>\n",
       "      <td>295668</td>\n",
       "      <td>27in FHD Monitor</td>\n",
       "      <td>1</td>\n",
       "      <td>149.99</td>\n",
       "      <td>2019-12-22 15:13:00</td>\n",
       "      <td>410 6th St, San Francisco, CA 94016</td>\n",
       "      <td>12</td>\n",
       "      <td>15</td>\n",
       "      <td>13</td>\n",
       "      <td>1</td>\n",
       "    </tr>\n",
       "    <tr>\n",
       "      <th>4</th>\n",
       "      <td>295669</td>\n",
       "      <td>USB-C Charging Cable</td>\n",
       "      <td>1</td>\n",
       "      <td>11.95</td>\n",
       "      <td>2019-12-18 12:38:00</td>\n",
       "      <td>43 Hill St, Atlanta, GA 30301</td>\n",
       "      <td>12</td>\n",
       "      <td>12</td>\n",
       "      <td>38</td>\n",
       "      <td>1</td>\n",
       "    </tr>\n",
       "  </tbody>\n",
       "</table>\n",
       "</div>"
      ],
      "text/plain": [
       "  Order ID               Product  Quantity Ordered  Price Each  \\\n",
       "0   295665    Macbook Pro Laptop                 1     1700.00   \n",
       "1   295666    LG Washing Machine                 1      600.00   \n",
       "2   295667  USB-C Charging Cable                 1       11.95   \n",
       "3   295668      27in FHD Monitor                 1      149.99   \n",
       "4   295669  USB-C Charging Cable                 1       11.95   \n",
       "\n",
       "           Order Date                        Purchase Address  Month  Hour  \\\n",
       "0 2019-12-30 00:01:00  136 Church St, New York City, NY 10001     12     0   \n",
       "1 2019-12-29 07:03:00     562 2nd St, New York City, NY 10001     12     7   \n",
       "2 2019-12-12 18:21:00    277 Main St, New York City, NY 10001     12    18   \n",
       "3 2019-12-22 15:13:00     410 6th St, San Francisco, CA 94016     12    15   \n",
       "4 2019-12-18 12:38:00           43 Hill St, Atlanta, GA 30301     12    12   \n",
       "\n",
       "   Minute  Count  \n",
       "0       1      1  \n",
       "1       3      1  \n",
       "2      21      1  \n",
       "3      13      1  \n",
       "4      38      1  "
      ]
     },
     "execution_count": 14,
     "metadata": {},
     "output_type": "execute_result"
    }
   ],
   "source": [
    "allData['Month'] = allData['Order Date'].dt.month\n",
    "\n",
    "allData['Hour'] = allData['Order Date'].dt.hour\n",
    "allData['Minute'] = allData['Order Date'].dt.minute\n",
    "allData['Count'] = 1\n",
    "allData.head()"
   ]
  },
  {
   "cell_type": "code",
   "execution_count": 15,
   "id": "b8c71a83",
   "metadata": {},
   "outputs": [],
   "source": [
    "### Add a salestotal column for qty * price in the dataframe"
   ]
  },
  {
   "cell_type": "code",
   "execution_count": 16,
   "id": "131611fc",
   "metadata": {},
   "outputs": [],
   "source": [
    "allData['SalesTotal'] = allData['Quantity Ordered'] * allData['Price Each']"
   ]
  },
  {
   "cell_type": "code",
   "execution_count": 17,
   "id": "fb25cfe7",
   "metadata": {},
   "outputs": [],
   "source": [
    "#### Separate out the city (ST)"
   ]
  },
  {
   "cell_type": "code",
   "execution_count": 18,
   "id": "fe9073a6",
   "metadata": {},
   "outputs": [],
   "source": [
    "#### use the dot apply method from pandas with a format string"
   ]
  },
  {
   "cell_type": "code",
   "execution_count": 19,
   "id": "ec1f95ca",
   "metadata": {},
   "outputs": [],
   "source": [
    "def get_city(address):\n",
    "    return address.split(',')[1]\n",
    "\n",
    "def get_state(address):\n",
    "    return address.split(',')[2].split(' ')[1]\n",
    "\n",
    "allData['City'] = allData['Purchase Address'].apply(lambda x: f\"{get_city(x)} ({get_state(x)})\")\n"
   ]
  },
  {
   "cell_type": "code",
   "execution_count": 20,
   "id": "300438b1",
   "metadata": {},
   "outputs": [],
   "source": [
    "results = allData.groupby('Month').sum()"
   ]
  },
  {
   "cell_type": "code",
   "execution_count": 21,
   "id": "50e8bc9b",
   "metadata": {},
   "outputs": [
    {
     "data": {
      "image/png": "[encoded data removed]",
      "text/plain": [
       "<Figure size 432x288 with 1 Axes>"
      ]
     },
     "metadata": {
      "needs_background": "light"
     },
     "output_type": "display_data"
    }
   ],
   "source": [
    "months = range(1,13)\n",
    "plt.bar(months, results['SalesTotal'])\n",
    "plt.xticks(months)\n",
    "plt.ylabel('Sales in US $')\n",
    "plt.xlabel('Months')\n",
    "plt.show()"
   ]
  },
  {
   "cell_type": "code",
   "execution_count": 22,
   "id": "0d0a196d",
   "metadata": {},
   "outputs": [],
   "source": [
    "#### What US city had the highest number of sales\n",
    "results = allData.groupby('City').sum()"
   ]
  },
  {
   "cell_type": "code",
   "execution_count": 23,
   "id": "ac29796f",
   "metadata": {},
   "outputs": [
    {
     "data": {
      "image/png": "[encoded data removed]",
      "text/plain": [
       "<Figure size 432x288 with 1 Axes>"
      ]
     },
     "metadata": {
      "needs_background": "light"
     },
     "output_type": "display_data"
    }
   ],
   "source": [
    "## This groups unique citys into a list of City names in same order as results table\n",
    "cities = [city for city, df in allData.groupby('City')]\n",
    "\n",
    "plt.bar(cities, results['SalesTotal'])\n",
    "plt.xticks(cities, rotation='vertical', size=8)\n",
    "plt.ylabel('Sales in US $')\n",
    "plt.xlabel('City Name')\n",
    "plt.show()"
   ]
  },
  {
   "cell_type": "code",
   "execution_count": 24,
   "id": "75858d02",
   "metadata": {},
   "outputs": [
    {
     "data": {
      "image/png": "[encoded data removed]",
      "text/plain": [
       "<Figure size 432x288 with 1 Axes>"
      ]
     },
     "metadata": {
      "needs_background": "light"
     },
     "output_type": "display_data"
    }
   ],
   "source": [
    "hours = [hour for hour, df in allData.groupby('Hour')]\n",
    "\n",
    "plt.plot(hours, allData.groupby(['Hour']).count())\n",
    "plt.xticks(hours)\n",
    "plt.xlabel('Hour')\n",
    "plt.ylabel('Num of Orders')\n",
    "plt.grid()\n",
    "\n",
    "plt.show()"
   ]
  },
  {
   "cell_type": "code",
   "execution_count": 25,
   "id": "581ed54d",
   "metadata": {},
   "outputs": [],
   "source": [
    "### Let's get a new dataframe with JUST the rows that are duplicate by order ID\n",
    "## duplicated(keep=False) keeps ALL duplcated rows, not just the first or last\n",
    "df = allData[allData['Order ID'].duplicated(keep=False)]\n",
    "df = df.copy()   ## This makes df an actual memory copy and not a view anymore\n",
    "df.drop(['Hour', 'Minute', 'City'], axis=1, inplace=True)\n",
    "df['Grouped'] = df.groupby('Order ID')['Product'].transform(lambda x: ','.join(x))\n",
    "## Now drop the duplicates by order id\n",
    "df = df[['Order ID', 'Grouped', 'Count']].drop_duplicates()\n",
    "\n"
   ]
  },
  {
   "cell_type": "code",
   "execution_count": 26,
   "id": "dc391195",
   "metadata": {},
   "outputs": [
    {
     "name": "stdout",
     "output_type": "stream",
     "text": [
      "('iPhone', 'Lightning Charging Cable') 1005\n",
      "('Google Phone', 'USB-C Charging Cable') 987\n",
      "('iPhone', 'Wired Headphones') 447\n",
      "('Google Phone', 'Wired Headphones') 414\n",
      "('Vareebadd Phone', 'USB-C Charging Cable') 361\n",
      "('iPhone', 'Apple Airpods Headphones') 360\n",
      "('Google Phone', 'Bose SoundSport Headphones') 220\n",
      "('USB-C Charging Cable', 'Wired Headphones') 160\n",
      "('Vareebadd Phone', 'Wired Headphones') 143\n",
      "('Lightning Charging Cable', 'Wired Headphones') 92\n",
      "('Lightning Charging Cable', 'Apple Airpods Headphones') 81\n",
      "('Vareebadd Phone', 'Bose SoundSport Headphones') 80\n",
      "('USB-C Charging Cable', 'Bose SoundSport Headphones') 77\n",
      "('Apple Airpods Headphones', 'Wired Headphones') 69\n",
      "('Lightning Charging Cable', 'USB-C Charging Cable') 58\n"
     ]
    }
   ],
   "source": [
    "count = Counter()\n",
    "for row in df['Grouped']:\n",
    "    row_list = row.split(',')\n",
    "    count.update(Counter(combinations(row_list, 2)))\n",
    "    \n",
    "count.most_common(10)\n",
    "for key, value in count.most_common(15):\n",
    "    print(key, value)"
   ]
  },
  {
   "cell_type": "code",
   "execution_count": 27,
   "id": "0e18ac31",
   "metadata": {},
   "outputs": [],
   "source": [
    "df = allData.groupby('Product')\n",
    "\n",
    "quantity_ordered = df.sum()['Quantity Ordered']\n",
    "products = [product for product, dataframe in df]"
   ]
  },
  {
   "cell_type": "code",
   "execution_count": 28,
   "id": "f1ae927c",
   "metadata": {},
   "outputs": [
    {
     "data": {
      "image/png": "[encoded data removed]",
      "text/plain": [
       "<Figure size 432x288 with 1 Axes>"
      ]
     },
     "metadata": {
      "needs_background": "light"
     },
     "output_type": "display_data"
    }
   ],
   "source": [
    "plt.bar(products, quantity_ordered)\n",
    "plt.xticks(products, rotation='vertical', size=8)\n",
    "plt.ylabel('Quantity')\n",
    "plt.xlabel('Products')\n",
    "plt.show()"
   ]
  },
  {
   "cell_type": "code",
   "execution_count": 29,
   "id": "4d302342",
   "metadata": {},
   "outputs": [
    {
     "name": "stderr",
     "output_type": "stream",
     "text": [
      "/var/folders/jq/njhl8w417hq8zf2m2t2njkwm0000gn/T/ipykernel_1431/2575234625.py:12: UserWarning: FixedFormatter should only be used together with FixedLocator\n",
      "  ax1.set_xticklabels(products, rotation='vertical', size=8)\n"
     ]
    },
    {
     "data": {
      "image/png": "[encoded data removed]",
      "text/plain": [
       "<Figure size 432x288 with 2 Axes>"
      ]
     },
     "metadata": {
      "needs_background": "light"
     },
     "output_type": "display_data"
    }
   ],
   "source": [
    "prices = allData.groupby('Product').mean()['Price Each']\n",
    "\n",
    "fig, ax1 = plt.subplots()\n",
    "\n",
    "ax2 = ax1.twinx()\n",
    "ax1.bar(products, quantity_ordered, color='g')\n",
    "ax2.plot(products, prices, 'b-')\n",
    "\n",
    "ax1.set_xlabel('Products')\n",
    "ax1.set_ylabel('Quantity', color='g')\n",
    "ax2.set_ylabel('Price', color='b')\n",
    "ax1.set_xticklabels(products, rotation='vertical', size=8)\n",
    "\n",
    "plt.show()"
   ]
  },
  {
   "cell_type": "code",
   "execution_count": null,
   "id": "0a3c684a",
   "metadata": {},
   "outputs": [],
   "source": []
  }
 ],
 "metadata": {
  "kernelspec": {
   "display_name": "Python 3 (ipykernel)",
   "language": "python",
   "name": "python3"
  },
  "language_info": {
   "codemirror_mode": {
    "name": "ipython",
    "version": 3
   },
   "file_extension": ".py",
   "mimetype": "text/x-python",
   "name": "python",
   "nbconvert_exporter": "python",
   "pygments_lexer": "ipython3",
   "version": "3.9.1"
  }
 },
 "nbformat": 4,
 "nbformat_minor": 5
}
